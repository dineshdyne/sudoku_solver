{
 "cells": [
  {
   "cell_type": "code",
   "execution_count": 5,
   "metadata": {},
   "outputs": [],
   "source": [
    "import numpy as np\n",
    "board = np.array([\n",
    "    [5, 3, 0, 0, 7, 0, 0, 0, 0],\n",
    "    [6, 0, 0, 1, 9, 5, 0, 0, 0],\n",
    "    [0, 9, 8, 0, 0, 0, 0, 6, 0],\n",
    "    [8, 0, 0, 0, 6, 0, 0, 0, 3],\n",
    "    [4, 0, 0, 8, 0, 3, 0, 0, 1],\n",
    "    [7, 0, 0, 0, 2, 0, 0, 0, 6],\n",
    "    [0, 6, 0, 0, 0, 0, 2, 8, 0],\n",
    "    [0, 0, 0, 4, 1, 9, 0, 0, 5],\n",
    "    [0, 0, 0, 0, 8, 0, 0, 7, 9]\n",
    "])\n",
    "\n"
   ]
  },
  {
   "cell_type": "code",
   "execution_count": 6,
   "metadata": {},
   "outputs": [],
   "source": [
    "\n",
    "\n",
    "def solve_sudoku(board):\n",
    "    \"\"\"\n",
    "    Solve the given Sudoku board using a backtracking approach.\n",
    "\n",
    "    Parameters:\n",
    "    -----------\n",
    "    board: numpy array of shape (9, 9)\n",
    "        The Sudoku board to be solved. Empty cells are represented by zeros.\n",
    "\n",
    "    Returns:\n",
    "    --------\n",
    "    solution: numpy array of shape (9, 9)\n",
    "        The solved Sudoku board.\n",
    "    \"\"\"\n",
    "    empty_cell = find_empty_cell(board)\n",
    "    if not empty_cell:\n",
    "        return board\n",
    "    row, col = empty_cell\n",
    "\n",
    "    for number in range(1, 10):\n",
    "        if is_valid_move(board, number, (row, col)):\n",
    "            board[row][col] = number\n",
    "            solution = solve_sudoku(board)\n",
    "            if solution is not None:\n",
    "                return solution\n",
    "            board[row][col] = 0\n",
    "    return None\n",
    "\n",
    "def find_empty_cell(board):\n",
    "    \"\"\"Find the next empty cell in the Sudoku board.\"\"\"\n",
    "    for i in range(9):\n",
    "        for j in range(9):\n",
    "            if board[i][j] == 0:\n",
    "                return (i, j)\n",
    "    return None\n",
    "\n",
    "def is_valid_move(board, number, position):\n",
    "    \"\"\"Check if it is valid to place the given number at the given position.\"\"\"\n",
    "    # Check row\n",
    "    for i in range(9):\n",
    "        if board[position[0]][i] == number and position[1] != i:\n",
    "            return False\n",
    "\n",
    "    # Check column\n",
    "    for i in range(9):\n",
    "        if board[i][position[1]] == number and position[0] != i:\n",
    "            return False\n",
    "\n",
    "    # Check 3x3 box\n",
    "    box_x = position[1] // 3\n",
    "    box_y = position[0] // 3\n",
    "\n",
    "    for i in range(box_y*3, box_y*3 + 3):\n",
    "        for j in range(box_x*3, box_x*3 + 3):\n",
    "            if board[i][j] == number and (i, j) != position:\n",
    "                return False\n",
    "\n",
    "    return True\n"
   ]
  },
  {
   "cell_type": "code",
   "execution_count": 8,
   "metadata": {},
   "outputs": [],
   "source": [
    "import time\n",
    "import timeit"
   ]
  },
  {
   "cell_type": "code",
   "execution_count": 10,
   "metadata": {},
   "outputs": [
    {
     "name": "stdout",
     "output_type": "stream",
     "text": [
      "19.1 µs ± 353 ns per loop (mean ± std. dev. of 7 runs, 100,000 loops each)\n"
     ]
    }
   ],
   "source": [
    "%timeit solve_sudoku(board)"
   ]
  },
  {
   "cell_type": "code",
   "execution_count": 11,
   "metadata": {},
   "outputs": [
    {
     "data": {
      "text/plain": [
       "array([[5, 3, 4, 6, 7, 8, 9, 1, 2],\n",
       "       [6, 7, 2, 1, 9, 5, 3, 4, 8],\n",
       "       [1, 9, 8, 3, 4, 2, 5, 6, 7],\n",
       "       [8, 5, 9, 7, 6, 1, 4, 2, 3],\n",
       "       [4, 2, 6, 8, 5, 3, 7, 9, 1],\n",
       "       [7, 1, 3, 9, 2, 4, 8, 5, 6],\n",
       "       [9, 6, 1, 5, 3, 7, 2, 8, 4],\n",
       "       [2, 8, 7, 4, 1, 9, 6, 3, 5],\n",
       "       [3, 4, 5, 2, 8, 6, 1, 7, 9]])"
      ]
     },
     "execution_count": 11,
     "metadata": {},
     "output_type": "execute_result"
    }
   ],
   "source": [
    "solve_sudoku(board)"
   ]
  },
  {
   "cell_type": "code",
   "execution_count": null,
   "metadata": {},
   "outputs": [],
   "source": []
  }
 ],
 "metadata": {
  "kernelspec": {
   "display_name": "Python 3.10.7 64-bit",
   "language": "python",
   "name": "python3"
  },
  "language_info": {
   "codemirror_mode": {
    "name": "ipython",
    "version": 3
   },
   "file_extension": ".py",
   "mimetype": "text/x-python",
   "name": "python",
   "nbconvert_exporter": "python",
   "pygments_lexer": "ipython3",
   "version": "3.10.7"
  },
  "orig_nbformat": 4,
  "vscode": {
   "interpreter": {
    "hash": "d09896473c1120047dc9640a001fd64c4ad642743cc19e876edea4a31a40bb53"
   }
  }
 },
 "nbformat": 4,
 "nbformat_minor": 2
}
